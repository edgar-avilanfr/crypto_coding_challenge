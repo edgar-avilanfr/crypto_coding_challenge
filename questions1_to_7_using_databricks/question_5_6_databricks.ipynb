{
 "cells": [
  {
   "cell_type": "code",
   "execution_count": 0,
   "metadata": {
    "application/vnd.databricks.v1+cell": {
     "cellMetadata": {
      "byteLimit": 2048000,
      "rowLimit": 10000
     },
     "inputWidgets": {},
     "nuid": "ad7b2f8b-da9e-429f-a623-614deb633a51",
     "showTitle": false,
     "tableResultSettingsMap": {},
     "title": ""
    }
   },
   "outputs": [],
   "source": [
    "import requests\n",
    "from datetime import datetime\n",
    "import json\n",
    "from pyspark.sql.functions import from_unixtime\n",
    "from pyspark.sql.functions import col, lit\n",
    "\n",
    "def convert_from_time_to_unix(my_date):\n",
    "    d_format= '%Y-%m-%d'\n",
    "    dt = datetime.strptime(my_date, d_format)\n",
    "    unix_timestamp = int(dt.timestamp())\n",
    "    return unix_timestamp\n",
    "\n",
    "def get_price_history_range(from_date, to_date ,coin , api_key):\n",
    "    from_date_unix=convert_from_time_to_unix(from_date)\n",
    "    to_date_unix=convert_from_time_to_unix(to_date)\n",
    "\n",
    "    url = f'https://api.coingecko.com/api/v3/coins/{coin}/market_chart/range'\n",
    "    params = {\n",
    "            'id': coin,\n",
    "            'vs_currency': 'USD',\n",
    "            'from': from_date_unix,\n",
    "            'to': to_date_unix,\n",
    "            #'interval': 'daily' #only exclusive for paid subscribers\n",
    "    }\n",
    "\n",
    "    headers = { 'x-cg-demo-api-key': api_key }\n",
    "    response = requests.get(url, params = params)\n",
    "\n",
    "    json_data = json.dumps(response.json()['prices'], indent=4)\n",
    "    dataprep = json.loads(json_data)\n",
    "\n",
    "    dfspark = spark.createDataFrame(dataprep, ['date', 'price'])\n",
    "    dfspark1=(dfspark.withColumn('date', from_unixtime(col('date')/1000).cast('date'))\n",
    "              .withColumn('ID', lit(coin)))\n",
    "    return dfspark1\n",
    "\n",
    "coindf=get_bitcoin_price_history_range('2024-06-01', '2024-10-01','bitcoin', 'CG-HwZEyrLTyMJR2hhdmCvxFurs')\n",
    "\n",
    "my_query_final=(coindf\n",
    "                .write\n",
    "                .format(\"delta\")\n",
    "                .mode(\"overwrite\")\n",
    "                .option(\"overwriteSchema\", \"true\")\n",
    "                .saveAsTable(\"my_workspacedb.test_schema2.bitcoin_price_historical\")\n",
    ")\n",
    "print(\"Writing Done :)\")"
   ]
  }
 ],
 "metadata": {
  "application/vnd.databricks.v1+notebook": {
   "computePreferences": null,
   "dashboards": [],
   "environmentMetadata": {
    "base_environment": "",
    "environment_version": "2"
   },
   "inputWidgetPreferences": null,
   "language": "python",
   "notebookMetadata": {
    "pythonIndentUnit": 4
   },
   "notebookName": "question_5_6_databricks",
   "widgets": {}
  },
  "language_info": {
   "name": "python"
  }
 },
 "nbformat": 4,
 "nbformat_minor": 0
}